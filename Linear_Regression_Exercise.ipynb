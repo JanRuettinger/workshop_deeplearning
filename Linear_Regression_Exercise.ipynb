{
 "cells": [
  {
   "cell_type": "markdown",
   "metadata": {},
   "source": [
    "## Exercise 1: Linear Regression with PyTorch\n",
    "\n",
    "Your task is to best fit a linear function to four given training examples using the autograd function of PyTorch.\n",
    "\n",
    "Goal: Get a better understanding how PyTorch works"
   ]
  },
  {
   "cell_type": "code",
   "execution_count": 2,
   "metadata": {
    "collapsed": true
   },
   "outputs": [],
   "source": [
    "# All needed imports\n",
    "import torch\n",
    "import torch.nn as nn\n",
    "from torch.autograd import Variable\n",
    "import matplotlib.pyplot as plt\n",
    "%matplotlib inline"
   ]
  },
  {
   "cell_type": "code",
   "execution_count": null,
   "metadata": {},
   "outputs": [],
   "source": [
    "# Linear Regression: y = weights*x+bias\n",
    "\n",
    "# Given examples (x:1,2 y:2), (x:1,3 y:3), (x:1,7 y:7), (x:1,9 y:9)\n",
    "\n",
    "# 1. Step: Guess the right answer\n",
    "# w1=?, w2=?, bias/w3=?\n",
    "\n",
    "# 2. Step: create PyTorch variables of the given training data and the weights/bias\n",
    "\n",
    "x = \n",
    "\n",
    "y =\n",
    "\n",
    "weights = \n",
    "\n",
    "bias =\n",
    "\n",
    "\n",
    "# 3. Step: create an PyTorch optimizer (choose whichever you like)\n",
    "\n",
    "optimizer = \n",
    "\n",
    "\n",
    "# 5. Step: create a training loop\n",
    "\n",
    "loss_history = []\n",
    "for i in range(5000):\n",
    "    output = # Build your model here\n",
    "    output = out.view(-1) #investigate this line\n",
    "    loss = torch.mean((out - y)**2)\n",
    "    optimizer.zero_grad() # investigate want happens without this line; Is it necessary?\n",
    "    # ... compute gradient here \n",
    "    # ... do one step with your optimizer\n",
    "    \n",
    "    loss_history.append(loss.data[0])\n",
    "    \n",
    "    if loss.data[0] < 1e-8:\n",
    "        break\n",
    "        \n",
    "print(i)\n",
    "print(loss.data[0])\n",
    "print(weights.data)  # ideal weights = [0,1]\n",
    "print(bias.data)\n",
    "plt.plot(range(i+1), loss_history);"
   ]
  }
 ],
 "metadata": {
  "kernelspec": {
   "display_name": "Python 3",
   "language": "python",
   "name": "python3"
  },
  "language_info": {
   "codemirror_mode": {
    "name": "ipython",
    "version": 3
   },
   "file_extension": ".py",
   "mimetype": "text/x-python",
   "name": "python",
   "nbconvert_exporter": "python",
   "pygments_lexer": "ipython3",
   "version": "3.6.2"
  }
 },
 "nbformat": 4,
 "nbformat_minor": 2
}
